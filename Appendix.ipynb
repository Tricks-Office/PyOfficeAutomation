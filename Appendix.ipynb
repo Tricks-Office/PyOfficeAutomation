{
 "cells": [
  {
   "cell_type": "markdown",
   "metadata": {},
   "source": [
    "### 폴더 탐색기에서 폴더 선택하여 폴더 안의 파일 리스트 가져오기"
   ]
  },
  {
   "cell_type": "code",
   "execution_count": null,
   "metadata": {},
   "outputs": [],
   "source": [
    "from tkinter import filedialog\n",
    "import os\n",
    "import re\n",
    "\n",
    "# 폴더/파일 탐색기에서 폴더 경로 가져오기\n",
    "TPath = filedialog.askdirectory()\n",
    "# 파워포인트 파일 리스트 가져오기\n",
    "pptfiles = [f for f in os.listdir(TPath) if re.match(r'.*[.]ppt', f)]\n",
    "# 엑셀 파일 리스트 가져오기\n",
    "xlfiles = [f for f in os.listdir(TPath) if re.match(r'.*[.]xls', f)]\n",
    "# 워드 파일 리스트 가져오기\n",
    "wordfiles = [f for f in os.listdir(TPath) if re.match(r'.*[.]doc', f)]\n",
    "# Image 파일 리스트 불러오기, 확장자명에 jpg, png, gif가 포함된 파일 전체\n",
    "imgfiles = [f for f in os.listdir(TPath) if re.match('.*([.]jpg|[.]png|[.]gif)', f)]\n"
   ]
  },
  {
   "cell_type": "markdown",
   "metadata": {},
   "source": [
    "### pywin32에서 애플리케이션 실행하기"
   ]
  },
  {
   "cell_type": "code",
   "execution_count": null,
   "metadata": {},
   "outputs": [],
   "source": [
    "import win32com.client\n",
    "\n",
    "# 파워포인트 실행하기\n",
    "powerpoint = win32com.client.Dispatch(\"Powerpoint.Application\")\n",
    "prs = powerpoint.Presentations.Open(‘파일 경로’)\n",
    "prs.Close()\n",
    "powerpoint.Quit()\n",
    "\n",
    "# 엑셀 실행하기\n",
    "excel = win32com.client.Dispatch(\"Excel.Application\")\n",
    "wb = excel.Workbooks.Open(“파일 경로”)\n",
    "wb.Close()\n",
    "excel.Quit()\n",
    "\n",
    "# 워드 실행하기\n",
    "word = win32com.client.Dispatch(\"Word.Application\")\n",
    "doc = word.Documents.Open(“파일 경로”)\n",
    "doc.Close()\n",
    "word.Quit()"
   ]
  },
  {
   "cell_type": "markdown",
   "metadata": {},
   "source": [
    "### os 라이브러리로 파일 이름 다루기"
   ]
  },
  {
   "cell_type": "code",
   "execution_count": null,
   "metadata": {},
   "outputs": [],
   "source": [
    "import os\n",
    "#폴더 경로 \\\\ 파일 이름 으로 구조 만들기\n",
    "os.path.join(\"폴더경로\",\"파일 이름\") \n",
    "# 파일 이름을 이름과 확장자명 분리하여 pre와 ext에 저장\n",
    "pre,ext = os.path.splitext(\"파일 이름\") "
   ]
  },
  {
   "cell_type": "markdown",
   "metadata": {},
   "source": [
    "### python-pptx 개체 번호 따기"
   ]
  },
  {
   "cell_type": "code",
   "execution_count": null,
   "metadata": {},
   "outputs": [],
   "source": [
    "from pptx import Presentation\n",
    "\n",
    "prs = Presentation('PPT 파일 이름')\n",
    "for idx, slide_layout in enumerate(prs.slide_layouts):\n",
    "    slide = prs.slides.add_slide(slide_layout)\n",
    "    for shape in slide.placeholders:\n",
    "        print(idx, shape.placeholder_format.idx, shape.name, shape.top, shape.left)"
   ]
  },
  {
   "cell_type": "markdown",
   "metadata": {},
   "source": [
    "### python-pptx 지정된 Layout으로 Slide 삽입하고 placeholder에 개체 삽입하기"
   ]
  },
  {
   "cell_type": "code",
   "execution_count": null,
   "metadata": {},
   "outputs": [],
   "source": [
    "from pptx import Presentation\n",
    "\n",
    "prs = Presentation('PPT 파일 이름')\n",
    "slide_layout = prs.slide_layouts[\"Layout고유번호(int)\"]\n",
    "\n",
    "sld = prs.slides.add_slide(slide_layout)\n",
    "sld.placeholders[\"고유번호(idx)\"].insert_picture(\"이미지파일 이름(경로포함)\")\n",
    "sld.placeholders[\"고유번호(idx)\"].text = \"입력할 Text\""
   ]
  },
  {
   "cell_type": "markdown",
   "metadata": {},
   "source": [
    "### python-pptx 텍스트 프레임 내부 run까지 따져 편집하기\t"
   ]
  },
  {
   "cell_type": "code",
   "execution_count": null,
   "metadata": {},
   "outputs": [],
   "source": [
    "from pptx import Presentation\n",
    "from pptx.enum.shapes import MSO_SHAPE_TYPE\n",
    "\n",
    "def para_function (shp):\n",
    "    for paragraph in shp.text_frame.paragraphs:\n",
    "        # 문단 단위로 다룰 내용이 있으면 관련 내용 수정\n",
    "        for run in paragraph.runs:\n",
    "            # 단어 단위로 다룰 내용이 있으면 관련 내용 수정\n",
    "\n",
    "# 파워포인트에서 파일 읽어오기\n",
    "prs = Presentation(“파일 경로”)\n",
    "for slide in prs.slides:\n",
    "      for shape in slide.shapes:\n",
    "            # shape 단에서 다룰 내용이 있으면, shape 관련 내용 수정\n",
    "\n",
    "            # shape에 Text Frame이 포함되어 있는 경우\n",
    "            if shape.has_text_frame:\n",
    "                  # text frame이 포함된 shape에서만 다룰 내용이 있으면 관련 내용 수정\n",
    "                  para_function (shape)\n",
    "\n",
    "            # shape가 표인 경우\n",
    "            if shape.has_table:\n",
    "                  # table이 포함된 shape에서만 다룰 내용이 있으면 관련 내용 수정\n",
    "\n",
    "                  for row in shape.table.rows:\n",
    "                        # 표의 행 단위로 다룰 내용이 있으면 관련 내용 수정\n",
    "\n",
    "                        for cell in row.cells:\n",
    "                              # 표 안의 각 칸 단위로 다룰 내용이 있으면 관련 내용 수정\n",
    "                              para_function (cell)\n",
    "\n",
    "            # shape가 Group으로 묶인 경우\n",
    "            if shape.shape_type == MSO_SHAPE_TYPE.GROUP:\n",
    "\n",
    "                  for shp in shape.shapes:\n",
    "                        if shp.has_text_frame:\n",
    "                              # text frame이 포함된 shape에서만 다룰 내용 수정\n",
    "                              para_function (shp)"
   ]
  },
  {
   "cell_type": "markdown",
   "metadata": {},
   "source": [
    "### pywin32 파워포인트 텍스트 프레임 내부까지 따져 편집하기"
   ]
  },
  {
   "cell_type": "code",
   "execution_count": null,
   "metadata": {},
   "outputs": [],
   "source": [
    "import win32com.client\n",
    "\n",
    "# 파워포인트 애플리케이션 개체 만들기\n",
    "powerpoint = win32com.client.Dispatch(\"Powerpoint.Application\")\n",
    "\n",
    "# 파워포인트에서 파일 읽어오기\n",
    "ppt = powerpoint.Presentations.Open(“파일 경로”)\n",
    "\n",
    "# 모든 slide에 대해 반복\n",
    "for slide in ppt.Slides:\n",
    "    # 모든 shape에 대해 반복\n",
    "    for shape in slide.shapes:\n",
    "        # TextFrame이 있는 경우\n",
    "        if shape.HasTextFrame == -1:\n",
    "            # Text Frame 내부 다룰 내용\n",
    "\n",
    "        # 표가 있는 경우\n",
    "        elif shape.HasTable == -1:\n",
    "            # 모든 행에 대하여 반복\n",
    "            for row in shape.Table.Rows:\n",
    "                # 행을 구성하는 모든 셀에 대하여 반복\n",
    "                for cell in row.cells:\n",
    "                    # Text Frame 내부 다룰 내용\n",
    "\n",
    "        # 그 외의 경우\n",
    "        else:\n",
    "            # try 아래 구문은 시도하다가 에러가 발생하거나 실패할 경우 except로 이동\n",
    "            try:\n",
    "                # Group을 구성하는 모든 구성 Shape에 대해 반복. \n",
    "                # 개체가 Group이 아닐때 에러\n",
    "                for GI in shape.GroupItems:\n",
    "                    if GI.HasTextFrame == -1:\n",
    "                        # Text Frame 내부 다룰 내용\n",
    "\n",
    "            # 에러 발생 시 다음 단계로 이동\n",
    "            except:\n",
    "                pass"
   ]
  },
  {
   "cell_type": "markdown",
   "metadata": {},
   "source": [
    "### python-docx 텍스트 내부 run까지 따져 편집하기"
   ]
  },
  {
   "cell_type": "code",
   "execution_count": null,
   "metadata": {},
   "outputs": [],
   "source": [
    "from docx import Document\n",
    "\n",
    "# 워드 파일 읽어오기\n",
    "doc = Document(“파일 경로”)\n",
    "\n",
    "# 각 문단에서 반복문 실행\n",
    "for paragraph in doc.paragraphs:\n",
    "    # 문단의 각 run(띄어쓰기) 단위로 반복문 실행\n",
    "    for run in paragraph.runs:\n",
    "        # run 단위 다룰 내용\n",
    "\n",
    "# 각 표에서 반복문 실행\n",
    "for table in doc.tables:\n",
    "    # 표의 각 행단위로 반복문 실행\n",
    "    for row in table.rows:\n",
    "        # 행 내부의 Cell 단위로 반복문 실행\n",
    "        for cell in row.cells:\n",
    "            # cell 단위 다룰 내용"
   ]
  }
 ],
 "metadata": {
  "kernelspec": {
   "display_name": "Python 3",
   "language": "python",
   "name": "python3"
  },
  "language_info": {
   "name": "python",
   "version": "3.11.5"
  },
  "orig_nbformat": 4
 },
 "nbformat": 4,
 "nbformat_minor": 2
}
