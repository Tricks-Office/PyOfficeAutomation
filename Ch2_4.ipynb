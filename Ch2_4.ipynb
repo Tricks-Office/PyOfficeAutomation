{
 "cells": [
  {
   "cell_type": "code",
   "execution_count": 1,
   "metadata": {},
   "outputs": [],
   "source": [
    "from tkinter import filedialog\n",
    "import os"
   ]
  },
  {
   "cell_type": "code",
   "execution_count": 2,
   "metadata": {},
   "outputs": [
    {
     "name": "stdout",
     "output_type": "stream",
     "text": [
      "MS 파일의 비밀\n",
      "MS 파일의 비밀.zip\n",
      "개인정보 취급 문서.xlsx\n",
      "개인정보 취급 문서_암호해제연습\n",
      "개인정보 취급 문서_암호해제연습.zip\n"
     ]
    }
   ],
   "source": [
    "folder_selected = filedialog.askdirectory()\n",
    "arr = os.listdir(folder_selected)\n",
    "for filename in arr:\n",
    "    print (filename)"
   ]
  }
 ],
 "metadata": {
  "kernelspec": {
   "display_name": "Python 3",
   "language": "python",
   "name": "python3"
  },
  "language_info": {
   "codemirror_mode": {
    "name": "ipython",
    "version": 3
   },
   "file_extension": ".py",
   "mimetype": "text/x-python",
   "name": "python",
   "nbconvert_exporter": "python",
   "pygments_lexer": "ipython3",
   "version": "3.11.5"
  },
  "orig_nbformat": 4
 },
 "nbformat": 4,
 "nbformat_minor": 2
}
