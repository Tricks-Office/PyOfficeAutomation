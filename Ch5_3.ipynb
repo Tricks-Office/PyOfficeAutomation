{
 "cells": [
  {
   "cell_type": "code",
   "execution_count": 1,
   "metadata": {},
   "outputs": [],
   "source": [
    "import win32com.client\n",
    "\n",
    "# 엑셀 애플리케이션 개체 만들기\n",
    "excel = win32com.client.Dispatch(\"Excel.Application\")\n",
    "\n",
    "# 읽어올 파일 경로 및 폴더 경로 지정 TPath : 타겟 파일 경로, RPath : 결과 파일 경로\n",
    "TPath = r'C:\\Data\\Sample\\5_Office2PDF\\Data\\Sample1.xlsx'\n",
    "RPath = r'C:\\Data\\Sample\\5_Office2PDF\\Result\\Result.pdf'\n",
    "\n",
    "# 엑셀에서 파일 읽어오기\n",
    "wb = excel.Workbooks.Open(TPath)\n",
    "\n",
    "# PDF 파일로 저장하기 ※ 파일형태 PDF를 의미하는 번호 : 32\n",
    "wb.ExportAsFixedFormat(0, RPath)\n",
    "\n",
    "# 읽었던 파일 닫기\n",
    "wb.Close()\n",
    "\n",
    "# 엑셀 애플리케이션 종료\n",
    "excel.Quit()\n"
   ]
  }
 ],
 "metadata": {
  "kernelspec": {
   "display_name": "Python 3",
   "language": "python",
   "name": "python3"
  },
  "language_info": {
   "codemirror_mode": {
    "name": "ipython",
    "version": 3
   },
   "file_extension": ".py",
   "mimetype": "text/x-python",
   "name": "python",
   "nbconvert_exporter": "python",
   "pygments_lexer": "ipython3",
   "version": "3.11.5"
  },
  "orig_nbformat": 4
 },
 "nbformat": 4,
 "nbformat_minor": 2
}
