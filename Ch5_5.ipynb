{
 "cells": [
  {
   "cell_type": "code",
   "execution_count": 1,
   "metadata": {},
   "outputs": [
    {
     "data": {
      "text/plain": [
       "''"
      ]
     },
     "execution_count": 1,
     "metadata": {},
     "output_type": "execute_result"
    }
   ],
   "source": [
    "import os\n",
    "import re\n",
    "from fpdf import FPDF\n",
    "\n",
    "# 가로 방향 PDF 파일 만들기 \n",
    "pdf = FPDF('L')\n",
    "\n",
    "# 읽어올 파일 경로 및 폴더 경로 지정 TPath : 타겟 파일 폴더 경로, RPath : 결과 폴더경로\n",
    "TPath = r'C:\\Data\\Sample\\5_5_IMG2PDF\\Data'\n",
    "RPath = r'C:\\Data\\Sample\\5_5_IMG2PDF\\Result'\n",
    "\n",
    "\n",
    "# Image 파일 리스트 불러오기, 확장자명에 jpg, png, gif가 포함된 파일 전체\n",
    "files = [f for f in os.listdir(TPath) if re.match('.*([.]jpg|[.]png|[.]gif)', f)]\n",
    "\n",
    "# 파일 이름별로 반복\n",
    "for file in files:\n",
    "    # img를 PDF로 바꿔서 페이지 추가\n",
    "    pdf.add_page()\n",
    "    pdf.image(os.path.join(TPath,file), x=0, y=0, w = 297)\n",
    "\n",
    "# PDF 파일 저장하기\n",
    "pdf.output(os.path.join(RPath,\"IMG2PDF.pdf\"), \"F\")\n"
   ]
  },
  {
   "cell_type": "code",
   "execution_count": 2,
   "metadata": {},
   "outputs": [
    {
     "data": {
      "text/plain": [
       "''"
      ]
     },
     "execution_count": 2,
     "metadata": {},
     "output_type": "execute_result"
    }
   ],
   "source": [
    "import os\n",
    "import re\n",
    "from fpdf import FPDF\n",
    "from PIL import Image\n",
    "\n",
    "# 가로 방향 PDF 파일 만들기 \n",
    "pdf = FPDF('L')\n",
    "\n",
    "# 읽어올 파일 경로 및 폴더 경로 지정 TPath : 타겟 파일 폴더 경로, RPath : 결과 폴더경로\n",
    "TPath = r'C:\\Data\\Sample\\5_5_IMG2PDF\\Data'\n",
    "RPath = r'C:\\Data\\Sample\\5_5_IMG2PDF\\Result'\n",
    "\n",
    "\n",
    "# Image 파일 리스트 불러오기, 확장자명에 jpg, png, gif가 포함된 파일 전체\n",
    "files = [f for f in os.listdir(TPath) if re.match('.*([.]jpg|[.]png|[.]gif)', f)]\n",
    "\n",
    "# 파일 이름별로 반복\n",
    "for file in files:\n",
    "    # img를 PDF로 바꿔서 페이지 추가\n",
    "    pdf.add_page()\n",
    "    # 이미지 불러와서 이미지 크기 확인하기\n",
    "    img = Image.open(os.path.join(TPath,file))\n",
    "    width, height = img.size\n",
    "    # 이미지 크기를 mm 단위로 환산 (1px = 0.264583)\n",
    "    width, height = float(width * 0.264583), float(height*0.264583)\n",
    "    # 폭과 높이 A4 비율과 비교해서 크기 조정하기\n",
    "    wid = 297 if width / height >= 297 / 210 else width * 210 / height \n",
    "    hei = height * 297 / width if width / height >= 297 / 210 else 210\n",
    "    # wid, hei라는 이름으로 구한 치수 기준으로 이미지 삽입하기\n",
    "    pdf.image(os.path.join(TPath,file), x= (297 - wid) / 2, y= (210 - hei) / 2, w = wid)\n",
    "\n",
    "# PDF 파일 저장하기\n",
    "pdf.output(os.path.join(RPath,\"IMG2PDF.pdf\"), \"F\")\n"
   ]
  }
 ],
 "metadata": {
  "kernelspec": {
   "display_name": "Python 3",
   "language": "python",
   "name": "python3"
  },
  "language_info": {
   "codemirror_mode": {
    "name": "ipython",
    "version": 3
   },
   "file_extension": ".py",
   "mimetype": "text/x-python",
   "name": "python",
   "nbconvert_exporter": "python",
   "pygments_lexer": "ipython3",
   "version": "3.11.5"
  },
  "orig_nbformat": 4
 },
 "nbformat": 4,
 "nbformat_minor": 2
}
