{
 "cells": [
  {
   "cell_type": "code",
   "execution_count": null,
   "metadata": {},
   "outputs": [],
   "source": [
    "from tkinter import filedialog\n",
    "import os\n",
    "import re\n",
    "\n",
    "TPath = filedialog.askdirectory()\n",
    "pptfiles = [f for f in os.listdir(TPath) if re.match(r'.*[.]ppt', f)]\n",
    "xlfiles = [f for f in os.listdir(TPath) if re.match(r'.*[.]xls', f)]\n",
    "wordfiles = [f for f in os.listdir(TPath) if re.match(r'.*[.]doc', f)]"
   ]
  }
 ],
 "metadata": {
  "kernelspec": {
   "display_name": "Python 3",
   "language": "python",
   "name": "python3"
  },
  "language_info": {
   "name": "python",
   "version": "3.11.5"
  },
  "orig_nbformat": 4
 },
 "nbformat": 4,
 "nbformat_minor": 2
}
