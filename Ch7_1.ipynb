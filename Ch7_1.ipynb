{
 "cells": [
  {
   "cell_type": "code",
   "execution_count": 1,
   "metadata": {},
   "outputs": [],
   "source": [
    "import os\n",
    "import re\n",
    "import openpyxl\n",
    "\n",
    "# 읽어올 파일 경로 및 폴더 경로 지정 \n",
    "# TPath : 타겟 파일 폴더 경로, FPath : 양식 파일 RPath : 결과 파일\n",
    "TPath = r'C:\\Data\\Sample\\7_Picture_Board\\Data'\n",
    "FPath = r'C:\\Data\\Sample\\7_Picture_Board\\사진대지양식.xlsx'\n",
    "RPath = r'C:\\Data\\Sample\\7_Picture_Board\\사진대지정보.xlsx'\n",
    "\n",
    "# Image 파일 리스트 불러오기, 확장자명에 jpg, png, gif가 포함된 파일 전체\n",
    "files = [f for f in os.listdir(TPath) if re.match('.*([.]jpg|[.]png|[.]gif)', f)]\n",
    "\n",
    "# openpyxl 불러오기\n",
    "WB = openpyxl.load_workbook(FPath)\n",
    "\n",
    "# 활성화된 시트를 WS로 지정하고 안에 있는 기존 이미지 모두 지우기\n",
    "WS = WB.active\n",
    "WS._images = []\n",
    "\n",
    "# 행 초깃값 설정 (2번째 행부터 값 쓰기)\n",
    "i=2\n",
    "\n",
    "# 파일 리스트에서 값 반복\n",
    "for file in files:\n",
    "    # 폴더 이름과 파일명 입력\n",
    "    WS[\"A\" + str(i)].value = TPath\n",
    "    WS[\"B\" + str(i)].value = file\n",
    "\n",
    "    # 이미지 불러오기\n",
    "    F_Name = os.path.join(TPath,file)\n",
    "    img = openpyxl.drawing.image.Image(F_Name)\n",
    "    \n",
    "    # 이미지 가로 세로 비율 구하기\n",
    "    I_Rate = img.width / img.height\n",
    "\n",
    "    # 이미지 폭을 F열 폭에 맞추고 F열의 칸에 위치 시키기\n",
    "    img.width = WS.column_dimensions['F'].width * 8\n",
    "    img.height = img.width / I_Rate\n",
    "    img.anchor = 'F' + str(i)\n",
    "\n",
    "    # 이미지 높이에 행의 높이 맞추기\n",
    "    WS.row_dimensions[i].height = img.height * 0.75\n",
    "\n",
    "    # 이미지 확정하여 삽입하기\n",
    "    WS.add_image(img)\n",
    "\n",
    "    # 작업 줄 증가\n",
    "    i += 1\n",
    "\n",
    "# 결과 저장하기\n",
    "WB.save(RPath)\n"
   ]
  }
 ],
 "metadata": {
  "kernelspec": {
   "display_name": "Python 3",
   "language": "python",
   "name": "python3"
  },
  "language_info": {
   "codemirror_mode": {
    "name": "ipython",
    "version": 3
   },
   "file_extension": ".py",
   "mimetype": "text/x-python",
   "name": "python",
   "nbconvert_exporter": "python",
   "pygments_lexer": "ipython3",
   "version": "3.11.5"
  },
  "orig_nbformat": 4
 },
 "nbformat": 4,
 "nbformat_minor": 2
}
