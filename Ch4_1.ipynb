{
 "cells": [
  {
   "cell_type": "markdown",
   "metadata": {},
   "source": [
    "### 파이썬으로 파워포인트 & 워드 파일 다루기\n",
    "- 이번 Ch4_1의 Code는 실제 동작하지는 않습니다. 이와 같은 형태로 구성된다는 것을 보여주기 위한 Sample Code 입니다.\n",
    "- 실제 동작하는 코드는 Ch4_2에서부터 다룹니다."
   ]
  },
  {
   "cell_type": "markdown",
   "metadata": {},
   "source": [
    "#### 파워포인트 내의 글상자를 수정하는 소스"
   ]
  },
  {
   "cell_type": "code",
   "execution_count": null,
   "metadata": {},
   "outputs": [],
   "source": [
    "from pptx import Presentation\n",
    "\n",
    "prs = Presentation('샘플PPT파일 경로')\n",
    "\n",
    "for slide in prs.slides:\n",
    "   for shape in slide.shapes:\n",
    "      # shape 단에서 다룰 내용이 있으면, shape 관련 내용 수정\n",
    "\n",
    "      if shape.has_text_frame:\n",
    "         # text frame이 포함된 shape에서만 다룰 내용이 있으면 관련 내용 수정\n",
    "\n",
    "         for paragraph in shape.text_frame.paragraphs:\n",
    "            # 문단 단위로 다룰 내용이 있으면 관련 내용 수정\n",
    "\n",
    "            for run in paragraph.runs:\n",
    "               # 단어 단위로 다룰 내용이 있으면 관련 내용 수정\n"
   ]
  },
  {
   "cell_type": "markdown",
   "metadata": {},
   "source": [
    "#### 파워포인트 내의 표 안에 있는 글자 영역을 수정하는 소스"
   ]
  },
  {
   "cell_type": "code",
   "execution_count": null,
   "metadata": {},
   "outputs": [],
   "source": [
    "from pptx import Presentation\n",
    "\n",
    "prs = Presentation('샘플PPT파일 경로')\n",
    "for slide in prs.slides:\n",
    "  \n",
    "    for shape in slide.shapes:\n",
    "        # shape 단에서 다룰 내용이 있으면, shape 관련 내용 수정\n",
    "        # 만약 shape가 표를 가지고 있다면\n",
    "        if shape.has_table:\n",
    "            # table이 포함된 shape에서만 다룰 내용이 있으면 관련 내용 수정\n",
    "\n",
    "            for row in shape.table.rows:\n",
    "                # 표의 행 단위로 다룰 내용이 있으면 관련 내용 수정\n",
    "\n",
    "                for cell in row.cells:\n",
    "                    # 표 안의 각 칸 단위로 다룰 내용이 있으면 관련 내용 수정\n",
    "\n",
    "                    for paragraph in cell.text_frame.paragraphs:\n",
    "                        # 문단 단위로 다룰 내용이 있으면 관련 내용 수정\n",
    "\n",
    "                        for run in paragraph.runs:\n",
    "                            # 단어 단위로 다룰 내용이 있으면 관련 내용 수정\n"
   ]
  },
  {
   "cell_type": "markdown",
   "metadata": {},
   "source": [
    "#### 파워포인트 내의 그룹으로 설정된 개체 안에 있는 글자 영역을 수정하는 소스"
   ]
  },
  {
   "cell_type": "code",
   "execution_count": null,
   "metadata": {},
   "outputs": [],
   "source": [
    "from pptx import Presentation\n",
    "from pptx.enum.shapes import MSO_SHAPE_TYPE\n",
    "\n",
    "prs = Presentation('샘플PPT파일 경로')\n",
    "for slide in prs.slides:\n",
    "    for shape in slide.shapes:\n",
    "      # shape 단에서 다룰 내용이 있으면, shape 관련 내용 수정\n",
    "\n",
    "    if shape.shape_type == MSO_SHAPE_TYPE.GROUP:\n",
    "\n",
    "        for shp in shape.shapes:\n",
    "            if shp.has_text_frame:\n",
    "                # text frame이 포함된 shape에서만 다룰 내용이 있으면 관련 내용 수정\n",
    "\n",
    "                for paragraph in shp.text_frame.paragraphs:\n",
    "                    # 문단 단위로 다룰 내용이 있으면 관련 내용 수정\n",
    "\n",
    "                    for run in paragraph.runs:\n",
    "                                    # 단어 단위로 다룰 내용이 있으면 관련 내용 수정\n"
   ]
  },
  {
   "cell_type": "markdown",
   "metadata": {},
   "source": [
    "#### 위의 3가지 경우를 모두 대응할 수 있게 만들어진 소스"
   ]
  },
  {
   "cell_type": "code",
   "execution_count": null,
   "metadata": {},
   "outputs": [],
   "source": [
    "from pptx import Presentation\n",
    "from pptx.enum.shapes import MSO_SHAPE_TYPE\n",
    "\n",
    "def para_function (shp):\n",
    "    for paragraph in shp.text_frame.paragraphs:\n",
    "        # 문단 단위로 다룰 내용이 있으면 관련 내용 수정\n",
    "\n",
    "        for run in paragraph.runs:\n",
    "            # 단어 단위로 다룰 내용이 있으면 관련 내용 수정\n",
    "\n",
    "prs = Presentation('샘플PPT파일 경로')\n",
    "for slide in prs.slides:\n",
    "    for shape in slide.shapes:\n",
    "        # shape 단에서 다룰 내용이 있으면 shape 관련 내용 수정\n",
    "\n",
    "        # shape에 Text Frame이 포함된 경우\n",
    "        if shape.has_text_frame:\n",
    "            # text frame이 포함된 shape에서만 다룰 내용이 있으면 관련 내용 수정\n",
    "            para_function (shape)\n",
    "\n",
    "        # shape가 표인 경우\n",
    "        if shape.has_table:\n",
    "            # table이 포함된 shape에서만 다룰 내용이 있으면 관련 내용 수정\n",
    "\n",
    "            for row in shape.table.rows:\n",
    "                # 표의 행 단위로 다룰 내용이 있으면 관련 내용 수정\n",
    "\n",
    "                for cell in row.cells:\n",
    "                    # 표 안의 각 칸 단위로 다룰 내용이 있으면 관련 내용 수정\n",
    "                    para_function (cell)\n",
    "\n",
    "        # shape가 Group으로 묶인 경우\n",
    "        if shape.shape_type == MSO_SHAPE_TYPE.GROUP:\n",
    "\n",
    "            for shp in shape.shapes:\n",
    "                if shp.has_text_frame:\n",
    "                    # text frame이 포함된 shape에서만 다룰 내용이 있으면 관련 내용 수정\n",
    "                    para_function (shp)\n"
   ]
  },
  {
   "cell_type": "markdown",
   "metadata": {},
   "source": [
    "#### 워드 파일을 수정하는 소스"
   ]
  },
  {
   "cell_type": "code",
   "execution_count": null,
   "metadata": {},
   "outputs": [],
   "source": [
    "from docx import Document\n",
    "\n",
    "doc = Document('샘플워드파일 경로')\n",
    "\n",
    "# 각 문단에서 반복문 실행\n",
    "for paragraph in doc.paragraphs:\n",
    "    # 문단의 각 run(띄어쓰기) 단위로 반복문 실행\n",
    "    for run in paragraph.runs:\n",
    "        # 원하는 단어 찾아 바꾸기\n",
    "\n",
    "# 각 표에서 반복문 실행\n",
    "for table in doc.tables:\n",
    "    # 표의 각 행단위로 반복문 실행\n",
    "    for row in table.rows:\n",
    "        # 행 내부의 Cell 단위로 반복문 실행\n",
    "        for cell in row.cells:\n",
    "            # 원하는 단어 찾아 바꾸기\n"
   ]
  }
 ],
 "metadata": {
  "language_info": {
   "name": "python"
  }
 },
 "nbformat": 4,
 "nbformat_minor": 2
}
