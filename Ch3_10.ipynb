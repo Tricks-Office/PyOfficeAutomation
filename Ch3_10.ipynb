{
 "cells": [
  {
   "cell_type": "markdown",
   "metadata": {},
   "source": [
    "### 같은 양식 여러 파일 자동 취합하기"
   ]
  },
  {
   "cell_type": "code",
   "execution_count": 1,
   "metadata": {},
   "outputs": [],
   "source": [
    "from tkinter import filedialog\n",
    "import os\n",
    "import re\n",
    "\n",
    "import pandas as pd\n",
    "\n",
    "# 작업할 파일이 모여있는 대상폴더를 선택하고 해당 폴더 안의 엑셀 파일 리스트 읽어오기\n",
    "TPath = filedialog.askdirectory()\n",
    "xlfiles = [f for f in os.listdir(TPath) if re.match(r'.*[.]xls', f)]\n",
    "\n",
    "# Data를 취합할 DataFrame 생성해두기 (데이터 없는 Blank 구조)\n",
    "df = pd.DataFrame()\n",
    "\n",
    "# 파일 이름 읽어오면서 값 적재하는 로직 반복하기\n",
    "for xlfile in xlfiles:\n",
    "    dfxl = pd.read_excel(os.path.join(TPath,xlfile))\n",
    "    df = pd.concat([df,dfxl])"
   ]
  },
  {
   "cell_type": "code",
   "execution_count": 2,
   "metadata": {},
   "outputs": [],
   "source": [
    "# 결과 파일 저장하기\n",
    "df.to_excel('XlMerge_Result.xlsx')"
   ]
  },
  {
   "cell_type": "code",
   "execution_count": null,
   "metadata": {},
   "outputs": [],
   "source": [
    "from tkinter import filedialog\n",
    "import os\n",
    "import re\n",
    "\n",
    "import pandas as pd\n",
    "\n",
    "# 작업할 파일이 모여있는 대상폴더를 선택하고 해당 폴더 안의 엑셀 파일 리스트 읽어오기\n",
    "TPath = filedialog.askdirectory()\n",
    "xlfiles = [f for f in os.listdir(TPath) if re.match(r'.*[.]xls', f)]\n",
    "\n",
    "# Data를 취합할 DataFrame 생성해두기 (데이터 없는 Blank 구조)\n",
    "df = pd.DataFrame()\n",
    "\n",
    "# 파일 이름 읽어오면서 값 적재하는 로직 반복하기\n",
    "for xlfile in xlfiles:\n",
    "    dfxl = pd.read_excel(os.path.join(TPath,xlfile))\n",
    "    df = pd.concat([df,dfxl])\n",
    "\n",
    "# 결과 파일 저장하기\n",
    "df.to_excel('XlMerge_Result.xlsx')"
   ]
  },
  {
   "cell_type": "markdown",
   "metadata": {},
   "source": [
    "### 다른 양식의 여러 파일 자동 취합하기"
   ]
  },
  {
   "cell_type": "code",
   "execution_count": 3,
   "metadata": {},
   "outputs": [],
   "source": [
    "import pandas as pd\n",
    "import os\n",
    "import re\n",
    "\n",
    "# Master 정보 읽어오기 (dfM : Mapping 정보, dfH : Head 정보)\n",
    "dfM = pd.read_excel(r'C:\\Data\\Sample\\3_10_Merge_Excel2\\Master.xlsx', sheet_name = 'Mapping')\n",
    "dfH = pd.read_excel(r'C:\\Data\\Sample\\3_10_Merge_Excel2\\Master.xlsx', sheet_name = 'Head')\n",
    "\n",
    "# 폴더 경로 설정하기 (TPath : Target Data가 모여 있는 폴더, RPath : Result를 저장할 폴더 )\n",
    "TPath = r'C:\\Data\\Sample\\3_10_Merge_Excel2\\Data'\n",
    "RPath = r'C:\\Data\\Sample\\3_10_Merge_Excel2\\Result'\n",
    "\n",
    "# Target Data가 모여 있는 폴더의 파일 리스트 가져오기\n",
    "xlfiles = [f for f in os.listdir(TPath) if re.match(r'.*[.]xls', f)]\n"
   ]
  },
  {
   "cell_type": "code",
   "execution_count": 4,
   "metadata": {},
   "outputs": [],
   "source": [
    "import pandas as pd\n",
    "import os\n",
    "import re\n",
    "\n",
    "# Master 정보 읽어오기 (dfM : Mapping 정보, dfH : Head 정보)\n",
    "dfM = pd.read_excel(r'C:\\Data\\Sample\\3_10_Merge_Excel2\\Master.xlsx', sheet_name = 'Mapping')\n",
    "dfH = pd.read_excel(r'C:\\Data\\Sample\\3_10_Merge_Excel2\\Master.xlsx', sheet_name = 'Head')\n",
    "\n",
    "# 폴더 경로 설정하기 (TPath : Target Data가 모여 있는 폴더, RPath : Result를 저장할 폴더 )\n",
    "TPath = r'C:\\Data\\Sample\\3_10_Merge_Excel2\\Data'\n",
    "RPath = r'C:\\Data\\Sample\\3_10_Merge_Excel2\\Result'\n",
    "\n",
    "# Target Data가 모여 있는 폴더의 파일 리스트 가져오기\n",
    "xlfiles = [f for f in os.listdir(TPath) if re.match(r'.*[.]xls', f)]\n",
    "\n",
    "\n",
    "# 결합할 DataFrame 초깃값 설정하기 \n",
    "df = pd.DataFrame()\n",
    "\n",
    "# 엑셀 파일 리스트에 따라 모든 엑셀 파일을 읽어올때 까지 반복문\n",
    "for xlfile in xlfiles:\n",
    "    # Target Data 엑셀 파일 정보 불러와 dfW라는 DataFrame에 저장하기\n",
    "    dfW = pd.read_excel(os.path.join(TPath,xlfile))\n",
    "    # Mapping Table 정보를 모두 읽을때 까지 반복하기\n",
    "    for index, row in dfM.iterrows():\n",
    "        # dfW 칼럼 이름 변경하기\n",
    "        dfW.rename(columns = {row[0]:row[1]}, inplace = True)\n",
    "    # 엑셀 파일 결합하기\n",
    "    df = pd.concat([df,dfW])"
   ]
  },
  {
   "cell_type": "code",
   "execution_count": 5,
   "metadata": {},
   "outputs": [],
   "source": [
    "import pandas as pd\n",
    "import os\n",
    "import re\n",
    "\n",
    "# Master 정보 읽어오기 (dfM : Mapping 정보, dfH : Head 정보)\n",
    "dfM = pd.read_excel(r'C:\\Data\\Sample\\3_10_Merge_Excel2\\Master.xlsx', sheet_name = 'Mapping')\n",
    "dfH = pd.read_excel(r'C:\\Data\\Sample\\3_10_Merge_Excel2\\Master.xlsx', sheet_name = 'Head')\n",
    "\n",
    "# 폴더 경로 설정하기 (TPath : Target Data가 모여 있는 폴더, RPath : Result를 저장할 폴더 )\n",
    "TPath = r'C:\\Data\\Sample\\3_10_Merge_Excel2\\Data'\n",
    "RPath = r'C:\\Data\\Sample\\3_10_Merge_Excel2\\Result'\n",
    "\n",
    "# Target Data가 모여 있는 폴더의 파일 리스트 가져오기\n",
    "xlfiles = [f for f in os.listdir(TPath) if re.match(r'.*[.]xls', f)]\n",
    "\n",
    "\n",
    "# 결합할 DataFrame 초깃값 설정하기 \n",
    "df = pd.DataFrame()\n",
    "\n",
    "# 엑셀 파일 리스트에 따라 모든 엑셀 파일을 읽어올때 까지 반복문\n",
    "for xlfile in xlfiles:\n",
    "    # Target Data 엑셀 파일 정보 불러와 dfW라는 DataFrame에 저장하기\n",
    "    dfW = pd.read_excel(os.path.join(TPath,xlfile))\n",
    "    dfW['소속'] = xlfile[:xlfile.find('.')]\n",
    "    # Mapping Table 정보를 모두 읽을때 까지 반복하기\n",
    "    for index, row in dfM.iterrows():\n",
    "        # dfW 칼럼 이름 변경하기\n",
    "        dfW.rename(columns = {row[0]:row[1]}, inplace = True)\n",
    "    # 엑셀 파일 결합하기\n",
    "    df = pd.concat([df,dfW])\n",
    "\n",
    "# 결과 정렬하여 보기 (dfA : 소속 정보를 추가하기 위한 임시 DataFrame, dfR : 최종 결과 DataFrame)\n",
    "dfA = pd.DataFrame(['소속'], columns = ['Header'])\n",
    "dfH = pd.concat([dfH, dfA], ignore_index=True)\n",
    "dfR = pd.DataFrame(df, columns = dfH['Header'])\n",
    "\n",
    "# 결과 저장하기\n",
    "dfR.to_excel(os.path.join(RPath,'Result.xlsx'), index=False)"
   ]
  }
 ],
 "metadata": {
  "kernelspec": {
   "display_name": "Python 3",
   "language": "python",
   "name": "python3"
  },
  "language_info": {
   "codemirror_mode": {
    "name": "ipython",
    "version": 3
   },
   "file_extension": ".py",
   "mimetype": "text/x-python",
   "name": "python",
   "nbconvert_exporter": "python",
   "pygments_lexer": "ipython3",
   "version": "3.11.5"
  },
  "orig_nbformat": 4
 },
 "nbformat": 4,
 "nbformat_minor": 2
}
