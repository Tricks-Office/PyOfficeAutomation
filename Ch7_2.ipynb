{
 "cells": [
  {
   "cell_type": "code",
   "execution_count": 3,
   "metadata": {},
   "outputs": [
    {
     "name": "stdout",
     "output_type": "stream",
     "text": [
      "0 10 Picture Placeholder 1 1495425 604837\n",
      "0 11 Text Placeholder 2 4895750 1457325\n",
      "0 12 Text Placeholder 3 5139166 1457325\n",
      "0 13 Text Placeholder 4 5139166 4142689\n",
      "0 14 Picture Placeholder 5 5724331 604837\n",
      "0 15 Text Placeholder 6 9124656 1457325\n",
      "0 16 Text Placeholder 7 9368072 1457325\n",
      "0 17 Text Placeholder 8 9368072 4142689\n"
     ]
    }
   ],
   "source": [
    "from pptx import Presentation\n",
    "\n",
    "# 파워포인트 슬라이드 마스터 파일 경로 설정 : PMaster\n",
    "PMaster = r'C:\\Data\\Sample\\7_Picture_Board\\사진대지마스터.pptx'\n",
    "\n",
    "# 파워포인트 개체 열기\n",
    "prs = Presentation(PMaster)\n",
    "\n",
    "# 슬라이드 마스터 레이아웃에서 각 레이아웃에서 반복\n",
    "for idx, slide_layout in enumerate(prs.slide_layouts):\n",
    "    slide = prs.slides.add_slide(slide_layout)\n",
    "    # 슬라이드 안의 개체틀 정보 print로 뿌리기\n",
    "    # 레이아웃번호, 개체틀 고유번호, 개체틀 이름, 위에서부터 위치, 왼쪽에서부터 위치\n",
    "    for shape in slide.placeholders:\n",
    "        print(idx, shape.placeholder_format.idx, shape.name, shape.top, shape.left)\n"
   ]
  },
  {
   "cell_type": "code",
   "execution_count": 4,
   "metadata": {},
   "outputs": [],
   "source": [
    "import pandas as pd\n",
    "from pptx import Presentation\n",
    "\n",
    "# 사용할 파일 경로 설정, PMaster : 사진대지 마스터 ppt파일, TPath : 사진대지 정보 엑셀 파일\n",
    "PMaster = r'C:\\Data\\Sample\\7_Picture_Board\\사진대지마스터.pptx'\n",
    "TPath = r'C:\\Data\\Sample\\7_Picture_Board\\Data2\\사진대지정보_Sample.xlsx'\n",
    "RPath = r'C:\\Data\\Sample\\7_Picture_Board\\Result\\사진대지.pptx'\n",
    "\n",
    "# 사진대지 정보 읽어오기\n",
    "df = pd.read_excel(TPath)\n",
    "\n",
    "# 파워포인트 개체 열기\n",
    "prs = Presentation(PMaster)\n",
    "\n",
    "# 0번 슬라이드 레이아웃 번호 지정하기\n",
    "slide_layout = prs.slide_layouts[0]\n",
    "\n",
    "# 읽어온 사진대지 정보에 대하여 반복문\n",
    "for index, row in df.iterrows():\n",
    "    # 홀수번째 이미지인지 짝수번째 정보인지 판단하여 구분자 r로 지정 0: 홀수번째\n",
    "    r = index % 2\n",
    "    # 홀수번째 이미지이면 슬라이드를 한 장 추가하고 시작\n",
    "    if r == 0 :\n",
    "        sld = prs.slides.add_slide(slide_layout)\n",
    "    # 슬라이드의 정해진 개체틀에 필요한 정보 채워넣기\n",
    "    sld.placeholders[10 + r * 4].insert_picture(os.path.join(row['폴더'],row['파일명']))\n",
    "    sld.placeholders[11 + r * 4].text = str(row['내용'])\n",
    "    sld.placeholders[12 + r * 4].text = str(row['위치'])\n",
    "    sld.placeholders[13 + r * 4].text = str(row['일시'])\n",
    "    \n",
    "# 결과 저장\n",
    "prs.save(RPath)\n"
   ]
  }
 ],
 "metadata": {
  "kernelspec": {
   "display_name": "Python 3",
   "language": "python",
   "name": "python3"
  },
  "language_info": {
   "codemirror_mode": {
    "name": "ipython",
    "version": 3
   },
   "file_extension": ".py",
   "mimetype": "text/x-python",
   "name": "python",
   "nbconvert_exporter": "python",
   "pygments_lexer": "ipython3",
   "version": "3.11.5"
  },
  "orig_nbformat": 4
 },
 "nbformat": 4,
 "nbformat_minor": 2
}
