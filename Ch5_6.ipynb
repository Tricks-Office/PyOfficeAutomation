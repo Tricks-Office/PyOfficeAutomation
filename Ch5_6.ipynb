{
 "cells": [
  {
   "cell_type": "code",
   "execution_count": 2,
   "metadata": {},
   "outputs": [],
   "source": [
    "import os\n",
    "import re\n",
    "from PyPDF2 import PdfReader, PdfWriter\n",
    "\n",
    "# 읽어올 파일 경로 및 폴더 경로 지정 TPath : 타겟 파일 폴더 경로, RPath : 결과 폴더경로\n",
    "TPath = r'C:\\Data\\Sample\\5_6_PDF_Security\\Data'\n",
    "RPath = r'C:\\Data\\Sample\\5_6_PDF_Security\\Result'\n",
    "\n",
    "# 암호 변수 설정\n",
    "pw = 'password'\n",
    "\n",
    "# Image 파일 리스트 불러오기, 확장자명에 jpg, png, gif가 포함된 파일 전체\n",
    "pdffiles = [f for f in os.listdir(TPath) if re.match('.*([.]pdf)', f)]\n",
    "\n",
    "# pdf 파일 리스트에 대해서 반복문\n",
    "for pdffile in pdffiles:\n",
    "    # 파일을 열고 Password 설정 ※ rb 옵션은 파일을 읽기 위한 binary 포멧이라는 의미\n",
    "    input_pdf = PdfReader(open(os.path.join(TPath,pdffile), \"rb\"))\n",
    "\n",
    "    # PDF 파일 저장을 위한 Writer 생성하고 패스워드 설정하여 내용 입력\n",
    "    output_pdf = PdfWriter()\n",
    "    output_pdf.append_pages_from_reader(input_pdf)\n",
    "    output_pdf.encrypt(pw)\n",
    "\n",
    "    # 만들어진 결과 파일을 저장 ※ wb 옵션은 파일을 저장하기 위한 binary 포멧이라는 의미\n",
    "    output_pdf.write(open(os.path.join(RPath, 'pw_' + pdffile), \"wb\"))       \n"
   ]
  }
 ],
 "metadata": {
  "kernelspec": {
   "display_name": "Python 3",
   "language": "python",
   "name": "python3"
  },
  "language_info": {
   "codemirror_mode": {
    "name": "ipython",
    "version": 3
   },
   "file_extension": ".py",
   "mimetype": "text/x-python",
   "name": "python",
   "nbconvert_exporter": "python",
   "pygments_lexer": "ipython3",
   "version": "3.11.5"
  },
  "orig_nbformat": 4
 },
 "nbformat": 4,
 "nbformat_minor": 2
}
